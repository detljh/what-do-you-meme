{
 "cells": [
  {
   "cell_type": "code",
   "execution_count": 21,
   "metadata": {},
   "outputs": [
    {
     "name": "stdout",
     "output_type": "stream",
     "text": [
      "<h3 class=\"story-title\">\n",
      "\t\t\t\t\t\t\t\tDanish capital hit by second blast in four days: police</h3>\n"
     ]
    }
   ],
   "source": [
    "from selenium import webdriver\n",
    "from datetime import date\n",
    "from requests import get\n",
    "import urllib.request\n",
    "import requests\n",
    "from selenium.webdriver.common.keys import Keys\n",
    "from selenium.webdriver.support.ui import Select\n",
    "from selenium.webdriver.support.ui import WebDriverWait\n",
    "from bs4 import BeautifulSoup\n",
    "from selenium.webdriver.common.desired_capabilities import DesiredCapabilities\n",
    "\n",
    "\n",
    "today =  date.today()\n",
    "url = 'https://www.reuters.com/news/archive/worldNews?date=today&fbclid=IwAR3a6E5GxuumyZcqNtwyTcVfAby1rC9bzBjy1JGhxFGIhjJ87h1u5MkSu-0'\n",
    "page = requests.get(url) # conntect to website\n",
    "#print(page.content)\n",
    "soup = BeautifulSoup(page.content, 'html.parser')\n",
    "#print(soup.prettify())\n",
    "\n",
    "tb = soup.find('h3',  class_=\"story-title\")\n",
    "print(tb)\n",
    "\n",
    "\n"
   ]
  },
  {
   "cell_type": "code",
   "execution_count": null,
   "metadata": {},
   "outputs": [],
   "source": []
  }
 ],
 "metadata": {
  "kernelspec": {
   "display_name": "Python 3",
   "language": "python",
   "name": "python3"
  },
  "language_info": {
   "codemirror_mode": {
    "name": "ipython",
    "version": 3
   },
   "file_extension": ".py",
   "mimetype": "text/x-python",
   "name": "python",
   "nbconvert_exporter": "python",
   "pygments_lexer": "ipython3",
   "version": "3.7.1"
  }
 },
 "nbformat": 4,
 "nbformat_minor": 2
}
